{
 "cells": [
  {
   "cell_type": "code",
   "execution_count": 1,
   "metadata": {},
   "outputs": [],
   "source": [
    "from pyspark.sql import SparkSession"
   ]
  },
  {
   "cell_type": "code",
   "execution_count": 2,
   "metadata": {},
   "outputs": [],
   "source": [
    "spark=SparkSession.builder\\\n",
    ".master(\"local[1]\")\\\n",
    ".appName(\"Windowing Functions\")\\\n",
    ".getOrCreate()"
   ]
  },
  {
   "cell_type": "code",
   "execution_count": 3,
   "metadata": {},
   "outputs": [],
   "source": [
    "data = [(1, \"John\", 30, \"Sales\", 50000.0),\n",
    "(2, \"Alice\", 28, \"Marketing\", 60000.0),\n",
    "(3, \"Bob\", 32, \"Finance\", 55000.0),\n",
    "(4, \"Sarah\", 29, \"Sales\", 52000.0),\n",
    "(5, \"Mike\", 31, \"Finance\", 58000.0)\n",
    "]"
   ]
  },
  {
   "cell_type": "code",
   "execution_count": 4,
   "metadata": {},
   "outputs": [],
   "source": [
    "from pyspark.sql.types import*"
   ]
  },
  {
   "cell_type": "code",
   "execution_count": 5,
   "metadata": {},
   "outputs": [],
   "source": [
    "schema = StructType([\n",
    "StructField(\"id\", IntegerType(), nullable=False),\n",
    "StructField(\"name\", StringType(), nullable=False),\n",
    "StructField(\"age\", IntegerType(), nullable=False),\n",
    "StructField(\"department\", StringType(), nullable=False),\n",
    "StructField(\"salary\", DoubleType(), nullable=False)\n",
    "])"
   ]
  },
  {
   "cell_type": "code",
   "execution_count": 6,
   "metadata": {},
   "outputs": [],
   "source": [
    "employeeDF = spark.createDataFrame(data, schema)"
   ]
  },
  {
   "cell_type": "code",
   "execution_count": 7,
   "metadata": {},
   "outputs": [
    {
     "name": "stdout",
     "output_type": "stream",
     "text": [
      "+---+-----+---+----------+-------+\n",
      "| id| name|age|department| salary|\n",
      "+---+-----+---+----------+-------+\n",
      "|  1| John| 30|     Sales|50000.0|\n",
      "|  2|Alice| 28| Marketing|60000.0|\n",
      "|  3|  Bob| 32|   Finance|55000.0|\n",
      "|  4|Sarah| 29|     Sales|52000.0|\n",
      "|  5| Mike| 31|   Finance|58000.0|\n",
      "+---+-----+---+----------+-------+\n",
      "\n"
     ]
    }
   ],
   "source": [
    "employeeDF.show()"
   ]
  },
  {
   "cell_type": "code",
   "execution_count": 8,
   "metadata": {},
   "outputs": [],
   "source": [
    "from pyspark.sql.functions import*"
   ]
  },
  {
   "cell_type": "code",
   "execution_count": 11,
   "metadata": {},
   "outputs": [],
   "source": [
    "#Calculate the average salary for each department"
   ]
  },
  {
   "cell_type": "code",
   "execution_count": 12,
   "metadata": {},
   "outputs": [
    {
     "name": "stdout",
     "output_type": "stream",
     "text": [
      "+----------+-------+\n",
      "|department|avg_sal|\n",
      "+----------+-------+\n",
      "|     Sales|51000.0|\n",
      "|   Finance|56500.0|\n",
      "| Marketing|60000.0|\n",
      "+----------+-------+\n",
      "\n"
     ]
    }
   ],
   "source": [
    "employeeDF.groupBy(\"department\").agg(avg(\"salary\").alias(\"avg_sal\")).show()"
   ]
  },
  {
   "cell_type": "code",
   "execution_count": 13,
   "metadata": {},
   "outputs": [],
   "source": [
    "#Add a new column named \"bonus\" that is 10% of the salary for all employees."
   ]
  },
  {
   "cell_type": "code",
   "execution_count": 15,
   "metadata": {},
   "outputs": [
    {
     "name": "stdout",
     "output_type": "stream",
     "text": [
      "+---+-----+---+----------+-------+------+\n",
      "| id| name|age|department| salary| bonus|\n",
      "+---+-----+---+----------+-------+------+\n",
      "|  1| John| 30|     Sales|50000.0|5000.0|\n",
      "|  2|Alice| 28| Marketing|60000.0|6000.0|\n",
      "|  3|  Bob| 32|   Finance|55000.0|5500.0|\n",
      "|  4|Sarah| 29|     Sales|52000.0|5200.0|\n",
      "|  5| Mike| 31|   Finance|58000.0|5800.0|\n",
      "+---+-----+---+----------+-------+------+\n",
      "\n"
     ]
    }
   ],
   "source": [
    "employeeDF.selectExpr(\"*\",\".1*salary as bonus\").show()"
   ]
  },
  {
   "cell_type": "code",
   "execution_count": 16,
   "metadata": {},
   "outputs": [],
   "source": [
    "#Group the data by department and find the employee with the highest salary in each department"
   ]
  },
  {
   "cell_type": "code",
   "execution_count": 9,
   "metadata": {},
   "outputs": [],
   "source": [
    "from pyspark.sql import Window"
   ]
  },
  {
   "cell_type": "code",
   "execution_count": 21,
   "metadata": {},
   "outputs": [],
   "source": [
    "mywindow=Window.partitionBy(\"department\").orderBy(desc(\"salary\"))"
   ]
  },
  {
   "cell_type": "code",
   "execution_count": 22,
   "metadata": {},
   "outputs": [],
   "source": [
    "high_sal=employeeDF.withColumn(\"highest_sal\",row_number().over(mywindow))"
   ]
  },
  {
   "cell_type": "code",
   "execution_count": 24,
   "metadata": {},
   "outputs": [
    {
     "name": "stdout",
     "output_type": "stream",
     "text": [
      "+---+-----+---+----------+-------+-----------+\n",
      "| id| name|age|department| salary|highest_sal|\n",
      "+---+-----+---+----------+-------+-----------+\n",
      "|  5| Mike| 31|   Finance|58000.0|          1|\n",
      "|  2|Alice| 28| Marketing|60000.0|          1|\n",
      "|  4|Sarah| 29|     Sales|52000.0|          1|\n",
      "+---+-----+---+----------+-------+-----------+\n",
      "\n"
     ]
    }
   ],
   "source": [
    "high_sal.filter(\"highest_sal==1\").show()"
   ]
  },
  {
   "cell_type": "code",
   "execution_count": 25,
   "metadata": {},
   "outputs": [],
   "source": [
    "#Find the top 3 departments with the highest total salary."
   ]
  },
  {
   "cell_type": "code",
   "execution_count": 26,
   "metadata": {},
   "outputs": [
    {
     "name": "stdout",
     "output_type": "stream",
     "text": [
      "+----------+---------+\n",
      "|department|total_sal|\n",
      "+----------+---------+\n",
      "|   Finance| 113000.0|\n",
      "|     Sales| 102000.0|\n",
      "| Marketing|  60000.0|\n",
      "+----------+---------+\n",
      "\n"
     ]
    }
   ],
   "source": [
    "employeeDF.groupBy(\"department\").agg(sum(\"salary\").alias(\"total_sal\")).orderBy(desc(\"total_sal\")).show()"
   ]
  },
  {
   "cell_type": "code",
   "execution_count": 27,
   "metadata": {},
   "outputs": [],
   "source": [
    "#Find the top most department having highest salary\n"
   ]
  },
  {
   "cell_type": "code",
   "execution_count": 11,
   "metadata": {},
   "outputs": [],
   "source": [
    "total_sal_df=employeeDF.groupBy(\"department\").agg(sum(\"salary\").alias(\"total_sal\"))"
   ]
  },
  {
   "cell_type": "code",
   "execution_count": 12,
   "metadata": {},
   "outputs": [],
   "source": [
    "mywindow=Window.orderBy(desc(total_sal_df[\"total_sal\"]))"
   ]
  },
  {
   "cell_type": "code",
   "execution_count": 14,
   "metadata": {},
   "outputs": [],
   "source": [
    "row_dept=total_sal_df.withColumn(\"row_number\",row_number().over(mywindow))"
   ]
  },
  {
   "cell_type": "code",
   "execution_count": 15,
   "metadata": {},
   "outputs": [
    {
     "name": "stdout",
     "output_type": "stream",
     "text": [
      "+----------+---------+----------+\n",
      "|department|total_sal|row_number|\n",
      "+----------+---------+----------+\n",
      "|   Finance| 113000.0|         1|\n",
      "+----------+---------+----------+\n",
      "\n"
     ]
    }
   ],
   "source": [
    "row_dept.filter(\"row_number=1\").show()"
   ]
  },
  {
   "cell_type": "code",
   "execution_count": 16,
   "metadata": {},
   "outputs": [],
   "source": [
    "#Filter the DataFrame to keep only employees aged 30 or above and working in the \"Sales\" department"
   ]
  },
  {
   "cell_type": "code",
   "execution_count": 23,
   "metadata": {},
   "outputs": [
    {
     "name": "stdout",
     "output_type": "stream",
     "text": [
      "+---+----+---+----------+-------+\n",
      "| id|name|age|department| salary|\n",
      "+---+----+---+----------+-------+\n",
      "|  1|John| 30|     Sales|50000.0|\n",
      "+---+----+---+----------+-------+\n",
      "\n"
     ]
    }
   ],
   "source": [
    "employeeDF.filter((employeeDF.age >= 30)&(employeeDF.department == 'Sales')).show()"
   ]
  },
  {
   "cell_type": "code",
   "execution_count": 24,
   "metadata": {},
   "outputs": [],
   "source": [
    "#Calculate the difference between each employee's salary and the average salary of their respective department"
   ]
  },
  {
   "cell_type": "code",
   "execution_count": 26,
   "metadata": {},
   "outputs": [],
   "source": [
    "mywindow=Window.partitionBy(\"department\")"
   ]
  },
  {
   "cell_type": "code",
   "execution_count": 36,
   "metadata": {},
   "outputs": [],
   "source": [
    "employeedf=employeeDF.withColumn(\"avg_sal\",avg(col(\"salary\")).over(mywindow))"
   ]
  },
  {
   "cell_type": "code",
   "execution_count": 37,
   "metadata": {},
   "outputs": [
    {
     "name": "stdout",
     "output_type": "stream",
     "text": [
      "+---+-----+---+----------+-------+-------+-------+\n",
      "| id| name|age|department| salary|avg_sal|   diff|\n",
      "+---+-----+---+----------+-------+-------+-------+\n",
      "|  3|  Bob| 32|   Finance|55000.0|56500.0|-1500.0|\n",
      "|  5| Mike| 31|   Finance|58000.0|56500.0| 1500.0|\n",
      "|  2|Alice| 28| Marketing|60000.0|60000.0|    0.0|\n",
      "|  1| John| 30|     Sales|50000.0|51000.0|-1000.0|\n",
      "|  4|Sarah| 29|     Sales|52000.0|51000.0| 1000.0|\n",
      "+---+-----+---+----------+-------+-------+-------+\n",
      "\n"
     ]
    }
   ],
   "source": [
    "employeedf.withColumn(\"diff\",col(\"salary\")-col(\"avg_sal\")).show()"
   ]
  },
  {
   "cell_type": "code",
   "execution_count": 38,
   "metadata": {},
   "outputs": [],
   "source": [
    "#Calculate the sum of salaries for employees whose names start with the letter \"J\"."
   ]
  },
  {
   "cell_type": "code",
   "execution_count": 39,
   "metadata": {},
   "outputs": [
    {
     "name": "stdout",
     "output_type": "stream",
     "text": [
      "+-----------+\n",
      "|sum(salary)|\n",
      "+-----------+\n",
      "|    50000.0|\n",
      "+-----------+\n",
      "\n"
     ]
    }
   ],
   "source": [
    "employeeDF.filter(col(\"name\").startswith('J')).agg(sum(col(\"salary\"))).show()"
   ]
  },
  {
   "cell_type": "code",
   "execution_count": 40,
   "metadata": {},
   "outputs": [],
   "source": [
    "#Sort the DataFrame based on the \"age\" column in ascending order and then by \"salary\" column in descending order"
   ]
  },
  {
   "cell_type": "code",
   "execution_count": 41,
   "metadata": {},
   "outputs": [
    {
     "name": "stdout",
     "output_type": "stream",
     "text": [
      "+---+-----+---+----------+-------+\n",
      "| id| name|age|department| salary|\n",
      "+---+-----+---+----------+-------+\n",
      "|  2|Alice| 28| Marketing|60000.0|\n",
      "|  4|Sarah| 29|     Sales|52000.0|\n",
      "|  1| John| 30|     Sales|50000.0|\n",
      "|  5| Mike| 31|   Finance|58000.0|\n",
      "|  3|  Bob| 32|   Finance|55000.0|\n",
      "+---+-----+---+----------+-------+\n",
      "\n"
     ]
    }
   ],
   "source": [
    "employeeDF.orderBy(\"age\",desc(\"salary\")).show()"
   ]
  },
  {
   "cell_type": "code",
   "execution_count": 42,
   "metadata": {},
   "outputs": [],
   "source": [
    "#Replace the department name \"Finance\" with \"Financial Services\" in the DataFrame"
   ]
  },
  {
   "cell_type": "code",
   "execution_count": 43,
   "metadata": {},
   "outputs": [
    {
     "name": "stdout",
     "output_type": "stream",
     "text": [
      "+---+-----+---+------------------+-------+\n",
      "| id| name|age|        department| salary|\n",
      "+---+-----+---+------------------+-------+\n",
      "|  1| John| 30|             Sales|50000.0|\n",
      "|  2|Alice| 28|         Marketing|60000.0|\n",
      "|  3|  Bob| 32|Financial services|55000.0|\n",
      "|  4|Sarah| 29|             Sales|52000.0|\n",
      "|  5| Mike| 31|Financial services|58000.0|\n",
      "+---+-----+---+------------------+-------+\n",
      "\n"
     ]
    }
   ],
   "source": [
    "employeeDF.withColumn(\"department\",when(col(\"department\")=='Finance','Financial services').otherwise(col(\"department\"))).show()"
   ]
  },
  {
   "cell_type": "code",
   "execution_count": 44,
   "metadata": {},
   "outputs": [],
   "source": [
    "#Calculate the percentage of total salary each employee contributes to their respective department."
   ]
  },
  {
   "cell_type": "code",
   "execution_count": 45,
   "metadata": {},
   "outputs": [],
   "source": [
    "mywindow=Window.partitionBy(\"department\")"
   ]
  },
  {
   "cell_type": "code",
   "execution_count": 46,
   "metadata": {},
   "outputs": [],
   "source": [
    "emp_df=employeeDF.withColumn(\"total_sal\",sum(\"salary\").over(mywindow))"
   ]
  },
  {
   "cell_type": "code",
   "execution_count": 48,
   "metadata": {},
   "outputs": [],
   "source": [
    "percentage=(col(\"total_sal\")/col(\"salary\"))*100"
   ]
  },
  {
   "cell_type": "code",
   "execution_count": 49,
   "metadata": {},
   "outputs": [
    {
     "name": "stdout",
     "output_type": "stream",
     "text": [
      "+---+-----+---+----------+-------+---------+-------+\n",
      "| id| name|age|department| salary|total_sal|percent|\n",
      "+---+-----+---+----------+-------+---------+-------+\n",
      "|  3|  Bob| 32|   Finance|55000.0| 113000.0| 205.45|\n",
      "|  5| Mike| 31|   Finance|58000.0| 113000.0| 194.83|\n",
      "|  2|Alice| 28| Marketing|60000.0|  60000.0|  100.0|\n",
      "|  1| John| 30|     Sales|50000.0| 102000.0|  204.0|\n",
      "|  4|Sarah| 29|     Sales|52000.0| 102000.0| 196.15|\n",
      "+---+-----+---+----------+-------+---------+-------+\n",
      "\n"
     ]
    }
   ],
   "source": [
    "emp_df.withColumn(\"percent\",round(percentage,2)).show()"
   ]
  },
  {
   "cell_type": "code",
   "execution_count": null,
   "metadata": {},
   "outputs": [],
   "source": []
  }
 ],
 "metadata": {
  "kernelspec": {
   "display_name": "Python 3",
   "language": "python",
   "name": "python3"
  },
  "language_info": {
   "codemirror_mode": {
    "name": "ipython",
    "version": 3
   },
   "file_extension": ".py",
   "mimetype": "text/x-python",
   "name": "python",
   "nbconvert_exporter": "python",
   "pygments_lexer": "ipython3",
   "version": "3.8.5"
  }
 },
 "nbformat": 4,
 "nbformat_minor": 4
}
